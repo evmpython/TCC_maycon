{
  "nbformat": 4,
  "nbformat_minor": 0,
  "metadata": {
    "colab": {
      "provenance": [],
      "collapsed_sections": [
        "kMRkhPtrwK25"
      ]
    },
    "kernelspec": {
      "name": "python3",
      "display_name": "Python 3"
    },
    "language_info": {
      "name": "python"
    }
  },
  "cells": [
    {
      "cell_type": "markdown",
      "source": [
        "# Preparando o Ambiente Virtual"
      ],
      "metadata": {
        "id": "kMRkhPtrwK25"
      }
    },
    {
      "cell_type": "code",
      "execution_count": 1,
      "metadata": {
        "id": "e16k9LB4vwTv"
      },
      "outputs": [],
      "source": [
        "# Instalando cartopy\n",
        "!pip uninstall -q shapely --yes\n",
        "!pip install -q shapely cartopy --no-binary shapely --no-binary cartopy\n",
        "\n",
        "# Instalando Py-art\n",
        "!pip install -q arm_pyart"
      ]
    },
    {
      "cell_type": "code",
      "source": [
        "# Montando o Drive\n",
        "from google.colab import drive\n",
        "drive.mount('/content/drive')\n",
        "import time\n",
        "dir =  '/content/drive/MyDrive/2-PESQUISA/1-ORIENTACOES/TFG_MAYCON/dados_radar_fcth_2024-01-22/'"
      ],
      "metadata": {
        "colab": {
          "base_uri": "https://localhost:8080/"
        },
        "id": "L1PQ9omewAkZ",
        "outputId": "cd94483f-9886-4dc0-c367-c2715aad0170"
      },
      "execution_count": 2,
      "outputs": [
        {
          "output_type": "stream",
          "name": "stdout",
          "text": [
            "Drive already mounted at /content/drive; to attempt to forcibly remount, call drive.mount(\"/content/drive\", force_remount=True).\n"
          ]
        }
      ]
    },
    {
      "cell_type": "markdown",
      "source": [
        "# Plota figura"
      ],
      "metadata": {
        "id": "ncNHOpixwM0-"
      }
    },
    {
      "cell_type": "code",
      "source": [
        "%%time\n",
        "# Importa bibliotecas\n",
        "import pyart # necessário so para a barra de cor\n",
        "import matplotlib.pyplot as plt\n",
        "import numpy as np\n",
        "import cartopy.crs as ccrs\n",
        "import cartopy\n",
        "import glob\n",
        "import os\n",
        "import cartopy.io.shapereader as shpreader\n",
        "from cartopy.feature import ShapelyFeature\n",
        "from cartopy.io.shapereader import Reader\n",
        "\n",
        "# Informações de tamanho da matriz e CENTRO do radar\n",
        "nx, ny = 480, 480\n",
        "lon_radar, lat_radar = -45.972790, -23.600795\n",
        "\n",
        "# Sistema de coordenadas\n",
        "crs = ccrs.Orthographic(central_latitude=lat_radar, central_longitude=lon_radar)\n",
        "\n",
        "# Loop dos arquivos\n",
        "for arq in sorted(glob.glob(f'{dir}input_dados_descompactados/V2_PNOVA2_DPSRI-H030-R1000-dBR_*.PROD')): # V2_PNOVA2_DPSRI-H030-R1000-dBR_2025012200000500dBR.dpsri.PROD\n",
        "#for arq in sorted(glob.glob(f'{dir}input_dados_descompactados/V2_PNOVA2_DPSRI-H030-R1000-dBR_2025012200000500dBR.dpsri.PROD')): # V2_PNOVA2_DPSRI-H030-R1000-dBR_2025012200000500dBR.dpsri.PROD\n",
        "\n",
        "    print('PROCESSANDO === >>>', arq)\n",
        "\n",
        "    # Leitura do arquivo binário\n",
        "    f = open(arq, 'rb')\n",
        "    data = np.fromfile(f, count=nx*ny, dtype=np.float32)\n",
        "    f.close()\n",
        "\n",
        "    # Aplica reshape na matriz de dados\n",
        "    cappi = np.reshape(data, [nx, ny], order='C')\n",
        "\n",
        "    # Inverte o eixo y\n",
        "    cappi = np.flip(cappi, 0)\n",
        "\n",
        "    # Elimina a achuva < 1 mm/h\n",
        "    cappi[cappi < 1] = np.nan\n",
        "\n",
        "    # Coordenadas\n",
        "    x = np.arange(nx)*1000 - 240000\n",
        "    y = x\n",
        "    xx, yy = np.meshgrid(x,y)\n",
        "\n",
        "    # Extrai a data e horário\n",
        "    basename = os.path.basename(os.path.splitext(arq)[0])\n",
        "    ano, mes, dia, hor, min = basename[31:35], basename[35:37], basename[37:39], basename[39:41], basename[41:43]\n",
        "\n",
        "    # Título da figura\n",
        "    titulo = f' Precipitação 3 km - FCTH: {ano}-{mes}-{dia} {hor}:{min} UTC'\n",
        "\n",
        "    # Formato da figura\n",
        "    fig = plt.figure(figsize=[8,6])\n",
        "    ax=fig.add_subplot(1,1,1, projection=crs)\n",
        "\n",
        "    # Plota o mapa, rios, litoral, etc\n",
        "    #ax.add_feature(cartopy.feature.LAND)\n",
        "    #ax.add_feature(cartopy.feature.OCEAN)\n",
        "    #ax.add_feature(cartopy.feature.LAKES, alpha=0.5)\n",
        "    #ax.add_feature(cartopy.feature.RIVERS)\n",
        "    #ax.add_feature(cartopy.feature.COASTLINE, linewidth=0.5, color='black')\n",
        "    #ax.add_feature(cartopy.feature.BORDERS, linestyle=':', linewidth=0.3)\n",
        "\n",
        "    #--------------------------------------------------------------------------------------#\n",
        "    # Plota shapefile: SP\n",
        "    shapefile = list(shpreader.Reader('https://github.com/evmpython/shapefile/raw/refs/heads/main/UFs/SP/SP_UF_2019.shp').geometries())\n",
        "    ax.add_geometries(shapefile, ccrs.PlateCarree(), edgecolor='black', facecolor='none', linewidth=1.0)\n",
        "\n",
        "    # Plota shapefile: RJ\n",
        "    shapefile = list(shpreader.Reader('https://github.com/evmpython/shapefile/raw/refs/heads/main/UFs/RJ/RJ_UF_2019.shp').geometries())\n",
        "    ax.add_geometries(shapefile, ccrs.PlateCarree(), edgecolor='black', facecolor='none', linewidth=1.0)\n",
        "\n",
        "    # Plota shapefile: ITAJUBÁ\n",
        "    shapefile = list(shpreader.Reader('https://github.com/evmpython/shapefile/raw/refs/heads/main/itajuba/itajuba.shp').geometries())\n",
        "    ax.add_geometries(shapefile, ccrs.PlateCarree(), edgecolor='red', facecolor='none', linewidth=1.0)\n",
        "\n",
        "    # Nome do arquivo shapefile que será utilizado para desenhar o contorno no mapa\n",
        "    ##shapefile = ShapelyFeature(Reader(\"https://github.com/evmpython/shapefile/raw/refs/heads/main/estados_do_brasil/BR_UF_2019.shp\").geometries(), ccrs.PlateCarree(), facecolor=\"none\")\n",
        "\n",
        "    # Adiciona o contorno do shapefile ao mapa de precipitação\n",
        "    ##ax.add_feature(shapefile, linewidth=1, edgecolor=\"black\")\n",
        "\n",
        "    # Plota shapefile: ITAJUBÁ\n",
        "    # Nome do arquivo shapefile que será utilizado para desenhar o contorno no mapa\n",
        "    ##shapefile = ShapelyFeature(Reader(\"https://github.com/evmpython/shapefile/raw/refs/heads/main/itajuba/itajuba.shp\").geometries(), ccrs.PlateCarree(), facecolor=\"none\")\n",
        "\n",
        "    # Adiciona o contorno do shapefile ao mapa de precipitação\n",
        "    ##ax.add_feature(shapefile, linewidth=1, edgecolor=\"red\")\n",
        "    #--------------------------------------------------------------------------------------#\n",
        "\n",
        "    # Extensão da imagem\n",
        "    ax.set_extent((-240000, 240000, -240000, 240000), crs=crs)\n",
        "\n",
        "    # Plota os círculos de distancia de 100 e 240km\n",
        "    circ1=plt.Circle((0, 0), radius=100000, color='grey', fill=False, lw=0.5)\n",
        "    circ2=plt.Circle((0, 0), radius=240000, color='grey', fill=False, lw=0.5)\n",
        "    ax.add_patch(circ1)\n",
        "    ax.add_patch(circ2)\n",
        "\n",
        "    # Plota o grid\n",
        "    gl = ax.gridlines(draw_labels=True, linestyle='--')\n",
        "    gl.top_labels = False\n",
        "    gl.right_labels = False\n",
        "\n",
        "    # Plota mapa\n",
        "    vmin = 0\n",
        "    vmax = 170\n",
        "\n",
        "    levels = np.arange(vmin,vmax, 10)\n",
        "\n",
        "    rain = ax.contourf(xx,\n",
        "                       yy,\n",
        "                       cappi,\n",
        "                       levels=levels,\n",
        "                       vmin=vmin, vmax=vmax,\n",
        "                       cmap='LangRainbow12',\n",
        "                       transform=crs)\n",
        "\n",
        "    # Plota a barra de cor\n",
        "    plt.colorbar(rain, label='[mm/h]', pad=0.01)\n",
        "    plt.title(titulo, fontsize='x-large')\n",
        "\n",
        "    # Salva figura\n",
        "    #plt.show()\n",
        "    plt.tight_layout()\n",
        "    plt.savefig(f'{dir}output/cappi_rain_fcth_{ano}{mes}{dia}_{hor}{min}.png')\n",
        "    plt.close()"
      ],
      "metadata": {
        "id": "KnPZR-gvv0_g",
        "colab": {
          "base_uri": "https://localhost:8080/"
        },
        "outputId": "40575f83-e81d-4d53-c01a-b48d92928717"
      },
      "execution_count": null,
      "outputs": [
        {
          "output_type": "stream",
          "name": "stdout",
          "text": [
            "PROCESSANDO === >>> /content/drive/MyDrive/2-PESQUISA/1-ORIENTACOES/TFG_MAYCON/dados_radar_fcth_2024-01-22/input_dados_descompactados/V2_PNOVA2_DPSRI-H030-R1000-dBR_2025012200000500dBR.dpsri.PROD\n",
            "PROCESSANDO === >>> /content/drive/MyDrive/2-PESQUISA/1-ORIENTACOES/TFG_MAYCON/dados_radar_fcth_2024-01-22/input_dados_descompactados/V2_PNOVA2_DPSRI-H030-R1000-dBR_2025012200020500dBR.dpsri.PROD\n",
            "PROCESSANDO === >>> /content/drive/MyDrive/2-PESQUISA/1-ORIENTACOES/TFG_MAYCON/dados_radar_fcth_2024-01-22/input_dados_descompactados/V2_PNOVA2_DPSRI-H030-R1000-dBR_2025012200040500dBR.dpsri.PROD\n",
            "PROCESSANDO === >>> /content/drive/MyDrive/2-PESQUISA/1-ORIENTACOES/TFG_MAYCON/dados_radar_fcth_2024-01-22/input_dados_descompactados/V2_PNOVA2_DPSRI-H030-R1000-dBR_2025012200060600dBR.dpsri.PROD\n",
            "PROCESSANDO === >>> /content/drive/MyDrive/2-PESQUISA/1-ORIENTACOES/TFG_MAYCON/dados_radar_fcth_2024-01-22/input_dados_descompactados/V2_PNOVA2_DPSRI-H030-R1000-dBR_2025012200080600dBR.dpsri.PROD\n",
            "PROCESSANDO === >>> /content/drive/MyDrive/2-PESQUISA/1-ORIENTACOES/TFG_MAYCON/dados_radar_fcth_2024-01-22/input_dados_descompactados/V2_PNOVA2_DPSRI-H030-R1000-dBR_2025012200100600dBR.dpsri.PROD\n",
            "PROCESSANDO === >>> /content/drive/MyDrive/2-PESQUISA/1-ORIENTACOES/TFG_MAYCON/dados_radar_fcth_2024-01-22/input_dados_descompactados/V2_PNOVA2_DPSRI-H030-R1000-dBR_2025012200120600dBR.dpsri.PROD\n"
          ]
        }
      ]
    }
  ]
}