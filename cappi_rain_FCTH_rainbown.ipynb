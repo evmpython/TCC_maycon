{
  "nbformat": 4,
  "nbformat_minor": 0,
  "metadata": {
    "colab": {
      "provenance": []
    },
    "kernelspec": {
      "name": "python3",
      "display_name": "Python 3"
    },
    "language_info": {
      "name": "python"
    }
  },
  "cells": [
    {
      "cell_type": "markdown",
      "source": [
        "# Preparando o Ambiente Virtual"
      ],
      "metadata": {
        "id": "kMRkhPtrwK25"
      }
    },
    {
      "cell_type": "code",
      "execution_count": 1,
      "metadata": {
        "colab": {
          "base_uri": "https://localhost:8080/"
        },
        "id": "e16k9LB4vwTv",
        "outputId": "3f88e263-7faf-4e9d-9b77-1aa6688857f8"
      },
      "outputs": [
        {
          "output_type": "stream",
          "name": "stdout",
          "text": [
            "\u001b[?25l     \u001b[90m━━━━━━━━━━━━━━━━━━━━━━━━━━━━━━━━━━━━━━━━\u001b[0m \u001b[32m0.0/283.4 kB\u001b[0m \u001b[31m?\u001b[0m eta \u001b[36m-:--:--\u001b[0m\r\u001b[2K     \u001b[91m━━━━━━━━━━━━━━━━━━━━━━━━━━━━━━━━━━━━━━━\u001b[0m\u001b[90m╺\u001b[0m \u001b[32m276.5/283.4 kB\u001b[0m \u001b[31m12.7 MB/s\u001b[0m eta \u001b[36m0:00:01\u001b[0m\r\u001b[2K     \u001b[90m━━━━━━━━━━━━━━━━━━━━━━━━━━━━━━━━━━━━━━━━\u001b[0m \u001b[32m283.4/283.4 kB\u001b[0m \u001b[31m5.0 MB/s\u001b[0m eta \u001b[36m0:00:00\u001b[0m\n",
            "\u001b[?25h  Installing build dependencies ... \u001b[?25l\u001b[?25hdone\n",
            "  Getting requirements to build wheel ... \u001b[?25l\u001b[?25hdone\n",
            "  Preparing metadata (pyproject.toml) ... \u001b[?25l\u001b[?25hdone\n",
            "\u001b[2K     \u001b[90m━━━━━━━━━━━━━━━━━━━━━━━━━━━━━━━━━━━━━━━━\u001b[0m \u001b[32m10.7/10.7 MB\u001b[0m \u001b[31m96.1 MB/s\u001b[0m eta \u001b[36m0:00:00\u001b[0m\n",
            "\u001b[?25h  Installing build dependencies ... \u001b[?25l\u001b[?25hdone\n",
            "  Getting requirements to build wheel ... \u001b[?25l\u001b[?25hdone\n",
            "  Preparing metadata (pyproject.toml) ... \u001b[?25l\u001b[?25hdone\n",
            "  Building wheel for shapely (pyproject.toml) ... \u001b[?25l\u001b[?25hdone\n",
            "  Building wheel for cartopy (pyproject.toml) ... \u001b[?25l\u001b[?25hdone\n",
            "\u001b[2K   \u001b[90m━━━━━━━━━━━━━━━━━━━━━━━━━━━━━━━━━━━━━━━━\u001b[0m \u001b[32m14.3/14.3 MB\u001b[0m \u001b[31m42.3 MB/s\u001b[0m eta \u001b[36m0:00:00\u001b[0m\n",
            "\u001b[2K   \u001b[90m━━━━━━━━━━━━━━━━━━━━━━━━━━━━━━━━━━━━━━━━\u001b[0m \u001b[32m9.3/9.3 MB\u001b[0m \u001b[31m97.9 MB/s\u001b[0m eta \u001b[36m0:00:00\u001b[0m\n",
            "\u001b[2K   \u001b[90m━━━━━━━━━━━━━━━━━━━━━━━━━━━━━━━━━━━━━━━━\u001b[0m \u001b[32m131.9/131.9 kB\u001b[0m \u001b[31m8.9 MB/s\u001b[0m eta \u001b[36m0:00:00\u001b[0m\n",
            "\u001b[2K   \u001b[90m━━━━━━━━━━━━━━━━━━━━━━━━━━━━━━━━━━━━━━━━\u001b[0m \u001b[32m1.4/1.4 MB\u001b[0m \u001b[31m54.1 MB/s\u001b[0m eta \u001b[36m0:00:00\u001b[0m\n",
            "\u001b[2K   \u001b[90m━━━━━━━━━━━━━━━━━━━━━━━━━━━━━━━━━━━━━━━━\u001b[0m \u001b[32m302.0/302.0 kB\u001b[0m \u001b[31m20.3 MB/s\u001b[0m eta \u001b[36m0:00:00\u001b[0m\n",
            "\u001b[2K   \u001b[90m━━━━━━━━━━━━━━━━━━━━━━━━━━━━━━━━━━━━━━━━\u001b[0m \u001b[32m193.6/193.6 kB\u001b[0m \u001b[31m11.9 MB/s\u001b[0m eta \u001b[36m0:00:00\u001b[0m\n",
            "\u001b[2K   \u001b[90m━━━━━━━━━━━━━━━━━━━━━━━━━━━━━━━━━━━━━━━━\u001b[0m \u001b[32m78.3/78.3 kB\u001b[0m \u001b[31m5.1 MB/s\u001b[0m eta \u001b[36m0:00:00\u001b[0m\n",
            "\u001b[2K   \u001b[90m━━━━━━━━━━━━━━━━━━━━━━━━━━━━━━━━━━━━━━━━\u001b[0m \u001b[32m47.3/47.3 kB\u001b[0m \u001b[31m3.0 MB/s\u001b[0m eta \u001b[36m0:00:00\u001b[0m\n",
            "\u001b[2K   \u001b[90m━━━━━━━━━━━━━━━━━━━━━━━━━━━━━━━━━━━━━━━━\u001b[0m \u001b[32m13.4/13.4 MB\u001b[0m \u001b[31m88.1 MB/s\u001b[0m eta \u001b[36m0:00:00\u001b[0m\n",
            "\u001b[?25h\u001b[31mERROR: pip's dependency resolver does not currently take into account all the packages that are installed. This behaviour is the source of the following dependency conflicts.\n",
            "gcsfs 2024.10.0 requires fsspec==2024.10.0, but you have fsspec 2025.3.0 which is incompatible.\n",
            "torch 2.6.0+cu124 requires nvidia-cublas-cu12==12.4.5.8; platform_system == \"Linux\" and platform_machine == \"x86_64\", but you have nvidia-cublas-cu12 12.5.3.2 which is incompatible.\n",
            "torch 2.6.0+cu124 requires nvidia-cuda-cupti-cu12==12.4.127; platform_system == \"Linux\" and platform_machine == \"x86_64\", but you have nvidia-cuda-cupti-cu12 12.5.82 which is incompatible.\n",
            "torch 2.6.0+cu124 requires nvidia-cuda-nvrtc-cu12==12.4.127; platform_system == \"Linux\" and platform_machine == \"x86_64\", but you have nvidia-cuda-nvrtc-cu12 12.5.82 which is incompatible.\n",
            "torch 2.6.0+cu124 requires nvidia-cuda-runtime-cu12==12.4.127; platform_system == \"Linux\" and platform_machine == \"x86_64\", but you have nvidia-cuda-runtime-cu12 12.5.82 which is incompatible.\n",
            "torch 2.6.0+cu124 requires nvidia-cudnn-cu12==9.1.0.70; platform_system == \"Linux\" and platform_machine == \"x86_64\", but you have nvidia-cudnn-cu12 9.3.0.75 which is incompatible.\n",
            "torch 2.6.0+cu124 requires nvidia-cufft-cu12==11.2.1.3; platform_system == \"Linux\" and platform_machine == \"x86_64\", but you have nvidia-cufft-cu12 11.2.3.61 which is incompatible.\n",
            "torch 2.6.0+cu124 requires nvidia-curand-cu12==10.3.5.147; platform_system == \"Linux\" and platform_machine == \"x86_64\", but you have nvidia-curand-cu12 10.3.6.82 which is incompatible.\n",
            "torch 2.6.0+cu124 requires nvidia-cusolver-cu12==11.6.1.9; platform_system == \"Linux\" and platform_machine == \"x86_64\", but you have nvidia-cusolver-cu12 11.6.3.83 which is incompatible.\n",
            "torch 2.6.0+cu124 requires nvidia-cusparse-cu12==12.3.1.170; platform_system == \"Linux\" and platform_machine == \"x86_64\", but you have nvidia-cusparse-cu12 12.5.1.3 which is incompatible.\n",
            "torch 2.6.0+cu124 requires nvidia-nvjitlink-cu12==12.4.127; platform_system == \"Linux\" and platform_machine == \"x86_64\", but you have nvidia-nvjitlink-cu12 12.5.82 which is incompatible.\u001b[0m\u001b[31m\n",
            "\u001b[0m"
          ]
        }
      ],
      "source": [
        "# Instalando o cartopy\n",
        "!pip uninstall -q shapely --yes\n",
        "!pip install -q shapely cartopy --no-binary shapely --no-binary cartopy\n",
        "\n",
        "# Instalando Py-art\n",
        "!pip install -q arm_pyart"
      ]
    },
    {
      "cell_type": "code",
      "source": [
        "# Montando o Drive\n",
        "from google.colab import drive\n",
        "drive.mount('/content/drive')\n",
        "dir =  '/content/drive/MyDrive/2-PESQUISA/1-ORIENTACOES/TFG_MAYCON/dados_radar_fcth_2024-01-22/'"
      ],
      "metadata": {
        "colab": {
          "base_uri": "https://localhost:8080/"
        },
        "id": "L1PQ9omewAkZ",
        "outputId": "9be63b34-70a8-434a-887a-60bb659bc7ec"
      },
      "execution_count": 2,
      "outputs": [
        {
          "output_type": "stream",
          "name": "stdout",
          "text": [
            "Mounted at /content/drive\n"
          ]
        }
      ]
    },
    {
      "cell_type": "markdown",
      "source": [
        "# Plota figura"
      ],
      "metadata": {
        "id": "ncNHOpixwM0-"
      }
    },
    {
      "cell_type": "code",
      "source": [
        "# Importa bibliotecas\n",
        "import pyart # necessário so para a barra de cor\n",
        "import matplotlib.pyplot as plt\n",
        "import numpy as np\n",
        "import cartopy.crs as ccrs\n",
        "import cartopy\n",
        "import glob\n",
        "import os\n",
        "\n",
        "# Informações de tamanho da matriz e CENTRO do radar\n",
        "nx, ny = 480, 480\n",
        "lon_radar, lat_radar = -45.972790, -23.600795\n",
        "\n",
        "# Sistema de coordenadas\n",
        "crs = ccrs.Orthographic(central_latitude=lat_radar, central_longitude=lon_radar)\n",
        "\n",
        "# Loop dos arquivos\n",
        "for arq in sorted(glob.glob(f'{dir}input_dados_descompactados/V2_PNOVA2_DPSRI-H030-R1000-dBR_*.PROD')):\n",
        "\n",
        "    print('PROCESSANDO === >>>', arq)\n",
        "\n",
        "    # Leitura do arquivo binário\n",
        "    f = open(arq, 'rb')\n",
        "    data = np.fromfile(f, count=nx*ny, dtype=np.float32)\n",
        "    f.close()\n",
        "\n",
        "    # Aplica reshape na matriz de dados\n",
        "    cappi = np.reshape(data, [nx, ny], order='C')\n",
        "\n",
        "    # Inverte o eixo y\n",
        "    cappi = np.flip(cappi, 0)\n",
        "\n",
        "    # Elimina a achuva < 1 mm/h\n",
        "    cappi[cappi < 1] = np.nan\n",
        "\n",
        "    # Coordenadas\n",
        "    x = np.arange(nx)*1000 - 240000\n",
        "    y = x\n",
        "    xx, yy = np.meshgrid(x,y)\n",
        "\n",
        "    # Extrai a data e horário\n",
        "    basename = os.path.basename(os.path.splitext(arq)[0])\n",
        "    ano, mes, dia, hor, min = basename[31:35], basename[35:37], basename[37:39], basename[39:41], basename[41:43]\n",
        "\n",
        "    # Título da figura\n",
        "    titulo = f' Preciptação 3 km - FCTH: {ano}-{mes}-{dia} {hor}{min} UTC'\n",
        "\n",
        "    # formato da figura\n",
        "    fig = plt.figure(figsize=[8,6])\n",
        "    ax=fig.add_subplot(1,1,1, projection=crs)\n",
        "\n",
        "    #plota o mapa, rios, litoral, etc\n",
        "    ax.add_feature(cartopy.feature.LAND)\n",
        "    #ax.add_feature(cartopy.feature.OCEAN)\n",
        "    #ax.add_feature(cartopy.feature.LAKES, alpha=0.5)\n",
        "    #ax.add_feature(cartopy.feature.RIVERS)\n",
        "    ax.add_feature(cartopy.feature.COASTLINE, linewidth=0.5, color='black')\n",
        "    ax.add_feature(cartopy.feature.BORDERS, linestyle=':', linewidth=0.3)\n",
        "\n",
        "    # Extensão da imagem\n",
        "    ax.set_extent((-240000, 240000, -240000, 240000), crs=crs)\n",
        "\n",
        "    # Plota os círculos de distancia de 100 e 240km\n",
        "    circ1=plt.Circle((0, 0), radius=100000, color='grey', fill=False, lw=0.5)\n",
        "    circ2=plt.Circle((0, 0), radius=240000, color='grey', fill=False, lw=0.5)\n",
        "    ax.add_patch(circ1)\n",
        "    ax.add_patch(circ2)\n",
        "\n",
        "    # Plota o grid\n",
        "    gl = ax.gridlines(draw_labels=True, linestyle='--')\n",
        "    gl.top_labels = False\n",
        "    gl.right_labels = False\n",
        "\n",
        "    # Plota mapa\n",
        "    vmin = 0\n",
        "    vmax = 170\n",
        "\n",
        "    levels = np.arange(vmin,vmax, 10)\n",
        "\n",
        "    rain = ax.contourf(xx,\n",
        "                       yy,\n",
        "                       cappi,\n",
        "                       levels=levels,\n",
        "                       vmin=vmin, vmax=vmax,\n",
        "                       cmap='LangRainbow12',\n",
        "                       transform=crs)\n",
        "\n",
        "    # Plota a barra de cor\n",
        "    plt.colorbar(rain, label='[mm/h]', pad=0.01)\n",
        "    plt.title(titulo, fontsize='x-large')\n",
        "\n",
        "    # Salva figura\n",
        "    #plt.show()\n",
        "    plt.tight_layout()\n",
        "    plt.savefig(f'{dir}output/cappi_rain_fcth_{ano}{mes}{dia}_{hor}{min}.png')\n",
        "    plt.close()"
      ],
      "metadata": {
        "colab": {
          "base_uri": "https://localhost:8080/"
        },
        "id": "KnPZR-gvv0_g",
        "outputId": "479b9b1a-77f6-4c69-f02a-9d08b71c7d2c"
      },
      "execution_count": null,
      "outputs": [
        {
          "output_type": "stream",
          "name": "stdout",
          "text": [
            "\n",
            "## You are using the Python ARM Radar Toolkit (Py-ART), an open source\n",
            "## library for working with weather radar data. Py-ART is partly\n",
            "## supported by the U.S. Department of Energy as part of the Atmospheric\n",
            "## Radiation Measurement (ARM) Climate Research Facility, an Office of\n",
            "## Science user facility.\n",
            "##\n",
            "## If you use this software to prepare a publication, please cite:\n",
            "##\n",
            "##     JJ Helmus and SM Collis, JORS 2016, doi: 10.5334/jors.119\n",
            "\n",
            "PROCESSANDO === >>> /content/drive/MyDrive/2-PESQUISA/1-ORIENTACOES/TFG_MAYCON/dados_radar_fcth_2024-01-22/input_dados_descompactados/V2_PNOVA2_DPSRI-H030-R1000-dBR_2025012200000500dBR.dpsri.PROD\n"
          ]
        }
      ]
    }
  ]
}